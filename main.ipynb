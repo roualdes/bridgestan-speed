{
 "cells": [
  {
   "cell_type": "markdown",
   "id": "ed05722c-974b-4d76-ad2a-8eefe8023f80",
   "metadata": {},
   "source": [
    "# Evaluating BridgeStan Speed"
   ]
  },
  {
   "cell_type": "markdown",
   "id": "784cf32a-8a36-4dc6-84e6-6bcef299f326",
   "metadata": {},
   "source": [
    "This notebook is meant to evaluate the speed of BridgeStan relative to [issue #190](https://github.com/roualdes/bridgestan/issues/190). The goal of the issue is to offer users direct access Stan's methods via both numpy arrays and ctypes.  The solution to the issue under question uses one extra if statement to allow either numpy arrays or ctypes.  We anticipate the if statement to (potentially) cause a slow down from a numpy array user perspective.  From a ctypes user perspective the proposed solution is likely to be much faster than what exists in BridgeStan's main branch.  This notebook aims to quantify the potential slow down, for numpy array users, and the expected speed gain, for ctypes users."
   ]
  },
  {
   "cell_type": "markdown",
   "id": "026cb76a-ebee-440e-96a6-b60cc41a96c0",
   "metadata": {},
   "source": [
    "### Clone and Install BridgeStan"
   ]
  },
  {
   "cell_type": "code",
   "execution_count": 1,
   "id": "e4039b17-bd61-4261-821b-0828b4a4a05c",
   "metadata": {},
   "outputs": [],
   "source": [
    "# start fresh?\n",
    "!rm -rf ./bridgestan"
   ]
  },
  {
   "cell_type": "code",
   "execution_count": 3,
   "id": "8b90676f-cbce-4b5e-b60a-d6cd83fce745",
   "metadata": {},
   "outputs": [
    {
     "name": "stdout",
     "output_type": "stream",
     "text": [
      "Switched to branch 'python/enable-ctypes-double-pointers'\n"
     ]
    }
   ],
   "source": [
    "!git clone --recurse-submodules --shallow-submodules --depth=1 https://github.com/roualdes/bridgestan.git\n",
    "!cd ./bridgestan && git fetch origin python/enable-ctypes-double-pointers:python/enable-ctypes-double-pointers && git checkout python/enable-ctypes-double-pointers"
   ]
  },
  {
   "cell_type": "code",
   "execution_count": 4,
   "id": "b90f2580-36f5-46d8-878f-46cd284bc90a",
   "metadata": {},
   "outputs": [
    {
     "name": "stdout",
     "output_type": "stream",
     "text": [
      "Processing ./python\n",
      "  Installing build dependencies ... \u001b[?25ldone\n",
      "\u001b[?25h  Getting requirements to build wheel ... \u001b[?25ldone\n",
      "\u001b[?25h  Installing backend dependencies ... \u001b[?25ldone\n",
      "\u001b[?25h  Preparing metadata (pyproject.toml) ... \u001b[?25ldone\n",
      "\u001b[?25hRequirement already satisfied: numpy in /Users/ez/venvs/py3/lib/python3.11/site-packages (from bridgestan==2.2.2) (1.23.5)\n",
      "Requirement already satisfied: dllist in /Users/ez/venvs/py3/lib/python3.11/site-packages (from bridgestan==2.2.2) (1.1.0)\n",
      "Building wheels for collected packages: bridgestan\n",
      "  Building wheel for bridgestan (pyproject.toml) ... \u001b[?25ldone\n",
      "\u001b[?25h  Created wheel for bridgestan: filename=bridgestan-2.2.2-py3-none-any.whl size=11744 sha256=d09633574848b1754e820cab17e213f65ed87799338b1d5311128ee983a09da1\n",
      "  Stored in directory: /private/var/folders/10/vhgkp_1x0p310y0lw2d5mx8h0000gn/T/pip-ephem-wheel-cache-f6okoqft/wheels/c0/af/43/4c10ee4e3df14332c19c8b6a53ff3b068ac02d4af336917a59\n",
      "Successfully built bridgestan\n",
      "Installing collected packages: bridgestan\n",
      "  Attempting uninstall: bridgestan\n",
      "    Found existing installation: bridgestan 2.2.2\n",
      "    Uninstalling bridgestan-2.2.2:\n",
      "      Successfully uninstalled bridgestan-2.2.2\n",
      "Successfully installed bridgestan-2.2.2\n",
      "\n",
      "\u001b[1m[\u001b[0m\u001b[34;49mnotice\u001b[0m\u001b[1;39;49m]\u001b[0m\u001b[39;49m A new release of pip is available: \u001b[0m\u001b[31;49m23.2.1\u001b[0m\u001b[39;49m -> \u001b[0m\u001b[32;49m23.3.1\u001b[0m\n",
      "\u001b[1m[\u001b[0m\u001b[34;49mnotice\u001b[0m\u001b[1;39;49m]\u001b[0m\u001b[39;49m To update, run: \u001b[0m\u001b[32;49mpip install --upgrade pip\u001b[0m\n"
     ]
    }
   ],
   "source": [
    "!cd ./bridgestan && pip install ./python"
   ]
  },
  {
   "cell_type": "markdown",
   "id": "7b5ac805-0692-4d1d-8e77-30fa485c3c3b",
   "metadata": {},
   "source": [
    "### Clone and Install ExperimentalHMC (for testing direct ctypes access)"
   ]
  },
  {
   "cell_type": "code",
   "execution_count": 5,
   "id": "91608975-76b8-4cb3-a7ea-4d5034754250",
   "metadata": {},
   "outputs": [
    {
     "name": "stdout",
     "output_type": "stream",
     "text": [
      "fatal: destination path 'experimentalHMC' already exists and is not an empty directory.\n",
      "From github.com:roualdes/experimentalHMC\n",
      " * branch            start      -> FETCH_HEAD\n",
      "Already on 'start'\n",
      "Your branch is up to date with 'origin/start'.\n",
      "Processing /Users/ez/bridgestan-speed/experimentalHMC\n",
      "  Installing build dependencies ... \u001b[?25ldone\n",
      "\u001b[?25h  Getting requirements to build wheel ... \u001b[?25ldone\n",
      "\u001b[?25h  Preparing metadata (pyproject.toml) ... \u001b[?25ldone\n",
      "\u001b[?25hRequirement already satisfied: numpy in /Users/ez/venvs/py3/lib/python3.11/site-packages (from experimentalhmc==0.0.1) (1.23.5)\n",
      "Building wheels for collected packages: experimentalhmc\n",
      "  Building wheel for experimentalhmc (pyproject.toml) ... \u001b[?25ldone\n",
      "\u001b[?25h  Created wheel for experimentalhmc: filename=experimentalhmc-0.0.1-cp311-cp311-macosx_12_0_x86_64.whl size=28055 sha256=632b3de592d7b7485ee617f830ebb3c187cec46b37b317fcc978d29558469d7c\n",
      "  Stored in directory: /private/var/folders/10/vhgkp_1x0p310y0lw2d5mx8h0000gn/T/pip-ephem-wheel-cache-xj2wmlix/wheels/db/d5/8f/6d7c68188c07281292ae0013dfd8cb0853d40aad60344fb904\n",
      "Successfully built experimentalhmc\n",
      "Installing collected packages: experimentalhmc\n",
      "  Attempting uninstall: experimentalhmc\n",
      "    Found existing installation: experimentalhmc 0.0.1\n",
      "    Uninstalling experimentalhmc-0.0.1:\n",
      "      Successfully uninstalled experimentalhmc-0.0.1\n",
      "Successfully installed experimentalhmc-0.0.1\n",
      "\n",
      "\u001b[1m[\u001b[0m\u001b[34;49mnotice\u001b[0m\u001b[1;39;49m]\u001b[0m\u001b[39;49m A new release of pip is available: \u001b[0m\u001b[31;49m23.2.1\u001b[0m\u001b[39;49m -> \u001b[0m\u001b[32;49m23.3.1\u001b[0m\n",
      "\u001b[1m[\u001b[0m\u001b[34;49mnotice\u001b[0m\u001b[1;39;49m]\u001b[0m\u001b[39;49m To update, run: \u001b[0m\u001b[32;49mpip install --upgrade pip\u001b[0m\n"
     ]
    }
   ],
   "source": [
    "!git clone git@github.com:roualdes/experimentalHMC.git\n",
    "!cd ./experimentalHMC && git fetch origin start && git checkout start\n",
    "!cd ./experimentalHMC && pip install ."
   ]
  },
  {
   "cell_type": "markdown",
   "id": "c1f7b0aa-f20e-49da-9bbf-ae59ed572e9f",
   "metadata": {},
   "source": [
    "### Evaluate Numpy Access"
   ]
  },
  {
   "cell_type": "code",
   "execution_count": 5,
   "id": "d249001a-3e81-49b0-a3ec-6e0391b7d7e4",
   "metadata": {},
   "outputs": [],
   "source": [
    "import bridgestan as bs\n",
    "import numpy as np\n",
    "\n",
    "bs.set_bridgestan_path(\"./bridgestan\")"
   ]
  },
  {
   "cell_type": "code",
   "execution_count": 36,
   "id": "2cc55ced-cc31-41a7-876c-8a2ad3848c05",
   "metadata": {},
   "outputs": [],
   "source": [
    "model = \"simple\"\n",
    "\n",
    "m = bs.StanModel(f\"test_models/{model}/{model}.stan\",\n",
    "                  data = f\"test_models/{model}/{model}.data.json\")\n",
    "\n",
    "dims = m.param_unc_num()\n",
    "R = 1_000\n",
    "out = np.zeros(dims)\n",
    "q = np.random.normal(size = (R, dims))"
   ]
  },
  {
   "cell_type": "code",
   "execution_count": 8,
   "id": "0e4f0244-4981-4b52-83aa-bafc5f377f9c",
   "metadata": {},
   "outputs": [
    {
     "name": "stdout",
     "output_type": "stream",
     "text": [
      "13.3 ms ± 179 µs per loop (mean ± std. dev. of 7 runs, 500 loops each)\n"
     ]
    }
   ],
   "source": [
    "%%timeit -n 500\n",
    "for r in range(R):\n",
    "    m.log_density_gradient(q[r], out = out)"
   ]
  },
  {
   "cell_type": "code",
   "execution_count": 8,
   "id": "1b4bfc54-76ea-469f-acac-2b297c49e96c",
   "metadata": {},
   "outputs": [
    {
     "name": "stdout",
     "output_type": "stream",
     "text": [
      "15.2 ms ± 575 µs per loop (mean ± std. dev. of 7 runs, 500 loops each)\n"
     ]
    }
   ],
   "source": [
    "%%timeit -n 500\n",
    "for r in range(R):\n",
    "    m.log_density_gradient_proposed(q[r], out = out)"
   ]
  },
  {
   "cell_type": "markdown",
   "id": "721738c4-9b7a-4c11-bc29-373372f0ba8c",
   "metadata": {},
   "source": [
    "### Evaluate Ctypes Access"
   ]
  },
  {
   "cell_type": "code",
   "execution_count": 10,
   "id": "1678ed2c-e83d-4ce4-839d-9d64b75155b1",
   "metadata": {},
   "outputs": [],
   "source": [
    "import experimentalhmc as ehmc\n",
    "from numpy.ctypeslib import as_array"
   ]
  },
  {
   "cell_type": "code",
   "execution_count": 29,
   "id": "018413b1-a85a-43e3-af2d-872ee9ad4dc7",
   "metadata": {},
   "outputs": [],
   "source": [
    "def bridgestan_log_density_gradient_wrapper(bsm):\n",
    "    dim = bsm.param_unc_num()\n",
    "    def bsm_c_wrapper(position, gradient):\n",
    "        ld, _ = bsm.log_density_gradient(as_array(position, shape = (dims,)), \n",
    "                                      out = as_array(gradient, shape = (dims,)))\n",
    "        return ld\n",
    "    return bsm_c_wrapper\n",
    "\n",
    "def bridgestan_log_density_gradient_proposed_wrapper(bsm):\n",
    "    dim = bsm.param_unc_num()\n",
    "    def bsm_c_wrapper(position, gradient):\n",
    "        ld, _ = bsm.log_density_gradient_proposed(position, out = gradient)\n",
    "        return ld\n",
    "    return bsm_c_wrapper"
   ]
  },
  {
   "cell_type": "code",
   "execution_count": 37,
   "id": "1588cbb0-c3a0-4f33-81e8-c3d7c81024e5",
   "metadata": {},
   "outputs": [],
   "source": [
    "ldg = bridgestan_log_density_gradient_wrapper(m)\n",
    "ldg_proposed = bridgestan_log_density_gradient_proposed_wrapper(m)"
   ]
  },
  {
   "cell_type": "code",
   "execution_count": 38,
   "id": "70a5bf1e-f9c8-42c3-9505-4af2679f2db6",
   "metadata": {},
   "outputs": [],
   "source": [
    "stan = ehmc.Stan(dims, ldg, seed = 204)\n",
    "omv_stan = ehmc.OnlineMeanVar(dims)\n",
    "stan_proposed = ehmc.Stan(dims, ldg_proposed, seed = 204)\n",
    "omv_proposed = ehmc.OnlineMeanVar(dims)"
   ]
  },
  {
   "cell_type": "code",
   "execution_count": 39,
   "id": "958da25b-1d9a-4a21-9147-af07548dc996",
   "metadata": {
    "scrolled": true
   },
   "outputs": [
    {
     "name": "stdout",
     "output_type": "stream",
     "text": [
      "1.51 s ± 30.3 ms per loop (mean ± std. dev. of 7 runs, 20 loops each)\n"
     ]
    }
   ],
   "source": [
    "%%timeit -n 20\n",
    "for m in range(1000):\n",
    "    x = stan.sample()\n",
    "    omv_stan.update(x)"
   ]
  },
  {
   "cell_type": "code",
   "execution_count": 40,
   "id": "6cc77ed5-9d93-4179-aef1-e3b8d62a20a7",
   "metadata": {},
   "outputs": [
    {
     "name": "stdout",
     "output_type": "stream",
     "text": [
      "908 ms ± 92 ms per loop (mean ± std. dev. of 7 runs, 20 loops each)\n"
     ]
    }
   ],
   "source": [
    "%%timeit -n 20\n",
    "for m in range(1000):\n",
    "    x = stan_proposed.sample()\n",
    "    omv_proposed.update(x)"
   ]
  },
  {
   "cell_type": "code",
   "execution_count": 34,
   "id": "b7717125-06a8-4096-84ba-3ab7a8af42f0",
   "metadata": {},
   "outputs": [
    {
     "data": {
      "text/plain": [
       "(array([-1.20302244, -0.73516029,  0.4193706 , -0.41457035,  0.12638996,\n",
       "        -0.36464968, -0.17881818, -0.15287945,  0.01286508,  0.18029888,\n",
       "        -0.11071917, -0.22435393,  0.12277747,  0.02861073, -0.13612297,\n",
       "        -0.29240139,  0.27868273, -0.29944824,  0.30408132,  0.27067469,\n",
       "         0.12296306, -0.06271858, -0.0931013 , -0.02592632, -0.02339059]),\n",
       " array([-1.20302244, -0.73516029,  0.4193706 , -0.41457035,  0.12638996,\n",
       "        -0.36464968, -0.17881818, -0.15287945,  0.01286508,  0.18029888,\n",
       "        -0.11071917, -0.22435393,  0.12277747,  0.02861073, -0.13612297,\n",
       "        -0.29240139,  0.27868273, -0.29944824,  0.30408132,  0.27067469,\n",
       "         0.12296306, -0.06271858, -0.0931013 , -0.02592632, -0.02339059]))"
      ]
     },
     "execution_count": 34,
     "metadata": {},
     "output_type": "execute_result"
    }
   ],
   "source": [
    "(omv_stan.location(), omv_proposed.location())"
   ]
  },
  {
   "cell_type": "code",
   "execution_count": 35,
   "id": "30ccfdb4-c3a8-47a7-8ed0-8fa6fd14245f",
   "metadata": {},
   "outputs": [
    {
     "data": {
      "text/plain": [
       "(array([0.09211061, 0.09012227, 0.10420422, 0.09500876, 0.10805726,\n",
       "        0.09462202, 0.09231088, 0.08181635, 0.09065747, 0.10413163,\n",
       "        0.09734989, 0.0789365 , 0.09418236, 0.08595233, 0.0942715 ,\n",
       "        0.11861248, 0.08279754, 0.10327394, 0.12105746, 0.1109676 ,\n",
       "        0.13717264, 0.14309232, 0.09045763, 0.12779424, 0.12448835]),\n",
       " array([0.09211061, 0.09012227, 0.10420422, 0.09500876, 0.10805726,\n",
       "        0.09462202, 0.09231088, 0.08181635, 0.09065747, 0.10413163,\n",
       "        0.09734989, 0.0789365 , 0.09418236, 0.08595233, 0.0942715 ,\n",
       "        0.11861248, 0.08279754, 0.10327394, 0.12105746, 0.1109676 ,\n",
       "        0.13717264, 0.14309232, 0.09045763, 0.12779424, 0.12448835]))"
      ]
     },
     "execution_count": 35,
     "metadata": {},
     "output_type": "execute_result"
    }
   ],
   "source": [
    "(omv_stan.scale(), omv_proposed.scale())"
   ]
  },
  {
   "cell_type": "code",
   "execution_count": null,
   "id": "2419e8c5-df7e-4680-8aed-9c3ec509c8da",
   "metadata": {},
   "outputs": [],
   "source": []
  }
 ],
 "metadata": {
  "kernelspec": {
   "display_name": "Python 3 (ipykernel)",
   "language": "python",
   "name": "python3"
  },
  "language_info": {
   "codemirror_mode": {
    "name": "ipython",
    "version": 3
   },
   "file_extension": ".py",
   "mimetype": "text/x-python",
   "name": "python",
   "nbconvert_exporter": "python",
   "pygments_lexer": "ipython3",
   "version": "3.11.6"
  }
 },
 "nbformat": 4,
 "nbformat_minor": 5
}
