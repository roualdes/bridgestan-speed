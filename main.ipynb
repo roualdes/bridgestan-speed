{
 "cells": [
  {
   "cell_type": "markdown",
   "id": "ed05722c-974b-4d76-ad2a-8eefe8023f80",
   "metadata": {},
   "source": [
    "# Evaluating BridgeStan Speed"
   ]
  },
  {
   "cell_type": "markdown",
   "id": "784cf32a-8a36-4dc6-84e6-6bcef299f326",
   "metadata": {},
   "source": [
    "This notebook is meant to evaluate the speed of BridgeStan relative to [issue #190](https://github.com/roualdes/bridgestan/issues/190). The goal is to offer users direct access Stan's methods via both numpy arrays and ctypes.  The question is which method is fastest and which method will be reasonable to maintain into the future.  For speed comparisons, BridgeStan's `log_density_gradient(...)` will serve as the baseline."
   ]
  },
  {
   "cell_type": "markdown",
   "id": "bfe8cfd8-a98b-4a0f-b482-9c66d0ebe885",
   "metadata": {},
   "source": [
    "There are two strategies (to offering APIs for numpy arrays and ctypes) being evaluated.  The function `log_density_gradient_proposed(...)` uses `array_ptr` to differentiate between numpy arrays and ctypes `double*`s with an implicit if statement. An alternative solution is to expose two functions, one specifically for ctypes and one for numpy arrays.  The function `log_density_gradient_ctypes(...)` offers direct access to ctypes, while `log_density_gradient_alternative(...)` deals with numpy arrays, but internally just calls `log_density_gradient_ctypes(...)`."
   ]
  },
  {
   "cell_type": "markdown",
   "id": "026cb76a-ebee-440e-96a6-b60cc41a96c0",
   "metadata": {},
   "source": [
    "### Clone and Install BridgeStan"
   ]
  },
  {
   "cell_type": "code",
   "execution_count": 7,
   "id": "e4039b17-bd61-4261-821b-0828b4a4a05c",
   "metadata": {},
   "outputs": [],
   "source": [
    "# start fresh?\n",
    "!rm -rf ./bridgestan"
   ]
  },
  {
   "cell_type": "code",
   "execution_count": 8,
   "id": "8b90676f-cbce-4b5e-b60a-d6cd83fce745",
   "metadata": {},
   "outputs": [
    {
     "name": "stdout",
     "output_type": "stream",
     "text": [
      "Cloning into 'bridgestan'...\n",
      "remote: Enumerating objects: 184, done.\u001b[K\n",
      "remote: Counting objects: 100% (184/184), done.\u001b[K\n",
      "remote: Compressing objects: 100% (165/165), done.\u001b[K\n",
      "remote: Total 184 (delta 3), reused 109 (delta 1), pack-reused 0\u001b[K\n",
      "Receiving objects: 100% (184/184), 145.52 KiB | 1.09 MiB/s, done.\n",
      "Resolving deltas: 100% (3/3), done.\n",
      "Submodule 'stan' (https://github.com/stan-dev/stan) registered for path 'stan'\n",
      "Cloning into '/Users/ez/bridgestan-speed/bridgestan/stan'...\n",
      "remote: Enumerating objects: 620, done.        \n",
      "remote: Counting objects: 100% (620/620), done.        \n",
      "remote: Compressing objects: 100% (519/519), done.        \n",
      "remote: Total 620 (delta 148), reused 299 (delta 77), pack-reused 0        \n",
      "Receiving objects: 100% (620/620), 4.63 MiB | 3.36 MiB/s, done.\n",
      "Resolving deltas: 100% (148/148), done.\n",
      "remote: Total 0 (delta 0), reused 0 (delta 0), pack-reused 0\u001b[K\n",
      "remote: Enumerating objects: 105, done.\u001b[K\n",
      "remote: Counting objects: 100% (105/105), done.\u001b[K\n",
      "remote: Compressing objects: 100% (50/50), done.\u001b[K\n",
      "remote: Total 57 (delta 48), reused 13 (delta 7), pack-reused 0\u001b[K\n",
      "Unpacking objects: 100% (57/57), 12.20 KiB | 158.00 KiB/s, done.\n",
      "From https://github.com/stan-dev/stan\n",
      " * branch            1c31a5483a8f54618003a954025567872214d50a -> FETCH_HEAD\n",
      "Submodule path 'stan': checked out '1c31a5483a8f54618003a954025567872214d50a'\n",
      "Submodule 'lib/stan_math' (https://github.com/stan-dev/math.git) registered for path 'stan/lib/stan_math'\n",
      "Cloning into '/Users/ez/bridgestan-speed/bridgestan/stan/lib/stan_math'...\n",
      "remote: Enumerating objects: 28632, done.        \n",
      "remote: Counting objects: 100% (28632/28632), done.        \n",
      "remote: Compressing objects: 100% (22466/22466), done.        \n",
      "remote: Total 28632 (delta 7651), reused 15892 (delta 5817), pack-reused 0        \n",
      "Receiving objects: 100% (28632/28632), 36.35 MiB | 3.90 MiB/s, done.\n",
      "Resolving deltas: 100% (7651/7651), done.\n",
      "remote: Total 0 (delta 0), reused 0 (delta 0), pack-reused 0\u001b[K\n",
      "remote: Enumerating objects: 4880, done.\u001b[K\n",
      "remote: Counting objects: 100% (4880/4880), done.\u001b[K\n",
      "remote: Compressing objects: 100% (3314/3314), done.\u001b[K\n",
      "remote: Total 4721 (delta 1527), reused 3046 (delta 1333), pack-reused 0\u001b[K\n",
      "Receiving objects: 100% (4721/4721), 7.95 MiB | 3.84 MiB/s, done.\n",
      "Resolving deltas: 100% (1527/1527), completed with 115 local objects.\n",
      "From https://github.com/stan-dev/math\n",
      " * branch              37df3571c7853dfa1939cc7c001bdc7b0e07ca1a -> FETCH_HEAD\n",
      "Submodule path 'stan/lib/stan_math': checked out '37df3571c7853dfa1939cc7c001bdc7b0e07ca1a'\n",
      "remote: Enumerating objects: 33, done.\u001b[K\n",
      "remote: Counting objects: 100% (33/33), done.\u001b[K\n",
      "remote: Compressing objects: 100% (13/13), done.\u001b[K\n",
      "remote: Total 27 (delta 22), reused 19 (delta 14), pack-reused 0\u001b[K\n",
      "Unpacking objects: 100% (27/27), 4.03 KiB | 103.00 KiB/s, done.\n",
      "From https://github.com/roualdes/bridgestan\n",
      " * [new branch]      python/enable-ctypes-double-pointers -> python/enable-ctypes-double-pointers\n",
      "Switched to branch 'python/enable-ctypes-double-pointers'\n"
     ]
    }
   ],
   "source": [
    "!git clone --recurse-submodules --shallow-submodules --depth=1 https://github.com/roualdes/bridgestan.git\n",
    "!cd ./bridgestan && git fetch origin python/enable-ctypes-double-pointers:python/enable-ctypes-double-pointers && git checkout python/enable-ctypes-double-pointers"
   ]
  },
  {
   "cell_type": "code",
   "execution_count": 9,
   "id": "b90f2580-36f5-46d8-878f-46cd284bc90a",
   "metadata": {},
   "outputs": [
    {
     "name": "stdout",
     "output_type": "stream",
     "text": [
      "Processing ./python\n",
      "  Installing build dependencies ... \u001b[?25ldone\n",
      "\u001b[?25h  Getting requirements to build wheel ... \u001b[?25ldone\n",
      "\u001b[?25h  Installing backend dependencies ... \u001b[?25ldone\n",
      "\u001b[?25h  Preparing metadata (pyproject.toml) ... \u001b[?25ldone\n",
      "\u001b[?25hRequirement already satisfied: numpy in /Users/ez/venvs/py3/lib/python3.11/site-packages (from bridgestan==2.2.2) (1.23.5)\n",
      "Requirement already satisfied: dllist in /Users/ez/venvs/py3/lib/python3.11/site-packages (from bridgestan==2.2.2) (1.1.0)\n",
      "Building wheels for collected packages: bridgestan\n",
      "  Building wheel for bridgestan (pyproject.toml) ... \u001b[?25ldone\n",
      "\u001b[?25h  Created wheel for bridgestan: filename=bridgestan-2.2.2-py3-none-any.whl size=11744 sha256=f7e1d856ec052bba58320a306b6c202cb0916dd37790ebfc80fd14a40507aa08\n",
      "  Stored in directory: /private/var/folders/10/vhgkp_1x0p310y0lw2d5mx8h0000gn/T/pip-ephem-wheel-cache-5_21ew09/wheels/c0/af/43/4c10ee4e3df14332c19c8b6a53ff3b068ac02d4af336917a59\n",
      "Successfully built bridgestan\n",
      "Installing collected packages: bridgestan\n",
      "  Attempting uninstall: bridgestan\n",
      "    Found existing installation: bridgestan 2.2.2\n",
      "    Uninstalling bridgestan-2.2.2:\n",
      "      Successfully uninstalled bridgestan-2.2.2\n",
      "Successfully installed bridgestan-2.2.2\n",
      "\n",
      "\u001b[1m[\u001b[0m\u001b[34;49mnotice\u001b[0m\u001b[1;39;49m]\u001b[0m\u001b[39;49m A new release of pip is available: \u001b[0m\u001b[31;49m23.2.1\u001b[0m\u001b[39;49m -> \u001b[0m\u001b[32;49m23.3.1\u001b[0m\n",
      "\u001b[1m[\u001b[0m\u001b[34;49mnotice\u001b[0m\u001b[1;39;49m]\u001b[0m\u001b[39;49m To update, run: \u001b[0m\u001b[32;49mpip install --upgrade pip\u001b[0m\n"
     ]
    }
   ],
   "source": [
    "!cd ./bridgestan && pip install ./python"
   ]
  },
  {
   "cell_type": "markdown",
   "id": "7b5ac805-0692-4d1d-8e77-30fa485c3c3b",
   "metadata": {},
   "source": [
    "### Clone and Install ExperimentalHMC (for testing direct ctypes access)"
   ]
  },
  {
   "cell_type": "code",
   "execution_count": 2,
   "id": "91608975-76b8-4cb3-a7ea-4d5034754250",
   "metadata": {},
   "outputs": [
    {
     "name": "stdout",
     "output_type": "stream",
     "text": [
      "fatal: destination path 'experimentalHMC' already exists and is not an empty directory.\n",
      "From github.com:roualdes/experimentalHMC\n",
      " * branch            start      -> FETCH_HEAD\n",
      "Already on 'start'\n",
      "Your branch is up to date with 'origin/start'.\n",
      "Processing /Users/ez/bridgestan-speed/experimentalHMC\n",
      "  Installing build dependencies ... \u001b[?25ldone\n",
      "\u001b[?25h  Getting requirements to build wheel ... \u001b[?25ldone\n",
      "\u001b[?25h  Preparing metadata (pyproject.toml) ... \u001b[?25ldone\n",
      "\u001b[?25hRequirement already satisfied: numpy in /Users/ez/venvs/py3/lib/python3.11/site-packages (from experimentalhmc==0.0.1) (1.23.5)\n",
      "Building wheels for collected packages: experimentalhmc\n",
      "  Building wheel for experimentalhmc (pyproject.toml) ... \u001b[?25ldone\n",
      "\u001b[?25h  Created wheel for experimentalhmc: filename=experimentalhmc-0.0.1-cp311-cp311-macosx_12_0_x86_64.whl size=28055 sha256=d9cd279c0e58ce33d3a4e0831af81f5f6d532ff24519b14abd8f18f10e60fac5\n",
      "  Stored in directory: /private/var/folders/10/vhgkp_1x0p310y0lw2d5mx8h0000gn/T/pip-ephem-wheel-cache-uvqynm6t/wheels/db/d5/8f/6d7c68188c07281292ae0013dfd8cb0853d40aad60344fb904\n",
      "Successfully built experimentalhmc\n",
      "Installing collected packages: experimentalhmc\n",
      "  Attempting uninstall: experimentalhmc\n",
      "    Found existing installation: experimentalhmc 0.0.1\n",
      "    Uninstalling experimentalhmc-0.0.1:\n",
      "      Successfully uninstalled experimentalhmc-0.0.1\n",
      "Successfully installed experimentalhmc-0.0.1\n",
      "\n",
      "\u001b[1m[\u001b[0m\u001b[34;49mnotice\u001b[0m\u001b[1;39;49m]\u001b[0m\u001b[39;49m A new release of pip is available: \u001b[0m\u001b[31;49m23.2.1\u001b[0m\u001b[39;49m -> \u001b[0m\u001b[32;49m23.3.1\u001b[0m\n",
      "\u001b[1m[\u001b[0m\u001b[34;49mnotice\u001b[0m\u001b[1;39;49m]\u001b[0m\u001b[39;49m To update, run: \u001b[0m\u001b[32;49mpip install --upgrade pip\u001b[0m\n"
     ]
    }
   ],
   "source": [
    "!git clone git@github.com:roualdes/experimentalHMC.git\n",
    "!cd ./experimentalHMC && git fetch origin start && git checkout start\n",
    "!cd ./experimentalHMC && pip install ."
   ]
  },
  {
   "cell_type": "markdown",
   "id": "c1f7b0aa-f20e-49da-9bbf-ae59ed572e9f",
   "metadata": {},
   "source": [
    "### Evaluate Numpy Access"
   ]
  },
  {
   "cell_type": "code",
   "execution_count": 10,
   "id": "d249001a-3e81-49b0-a3ec-6e0391b7d7e4",
   "metadata": {},
   "outputs": [],
   "source": [
    "from pathlib import Path\n",
    "\n",
    "import bridgestan as bs\n",
    "import numpy as np\n",
    "\n",
    "bs.set_bridgestan_path(Path.home() / \"bridgestan\")"
   ]
  },
  {
   "cell_type": "code",
   "execution_count": 11,
   "id": "2cc55ced-cc31-41a7-876c-8a2ad3848c05",
   "metadata": {},
   "outputs": [
    {
     "name": "stderr",
     "output_type": "stream",
     "text": [
      "/Users/ez/venvs/py3/lib/python3.11/site-packages/bridgestan/model.py:127: UserWarning: Loading a shared object /Users/ez/bridgestan-speed/test_models/logistic/logistic_model.so that has already been loaded.\n",
      "If the file has changed since the last time it was loaded, this load may not update the library!\n",
      "  warnings.warn(\n"
     ]
    }
   ],
   "source": [
    "model = \"logistic\"\n",
    "\n",
    "gm = bs.StanModel(f\"test_models/{model}/{model}.stan\",\n",
    "                  data = f\"test_models/{model}/{model}.data.json\")\n",
    "\n",
    "dims = gm.param_unc_num()\n",
    "R = 1_000\n",
    "out = np.zeros(dims)"
   ]
  },
  {
   "cell_type": "code",
   "execution_count": 12,
   "id": "0e4f0244-4981-4b52-83aa-bafc5f377f9c",
   "metadata": {},
   "outputs": [
    {
     "name": "stdout",
     "output_type": "stream",
     "text": [
      "88.3 ms ± 3.9 ms per loop (mean ± std. dev. of 7 runs, 10 loops each)\n"
     ]
    }
   ],
   "source": [
    "%%timeit -n 10\n",
    "for r in range(R):\n",
    "    q = np.random.normal(size = dims)\n",
    "    gm.log_density_gradient(q, out = out)"
   ]
  },
  {
   "cell_type": "code",
   "execution_count": 13,
   "id": "1b4bfc54-76ea-469f-acac-2b297c49e96c",
   "metadata": {},
   "outputs": [
    {
     "name": "stdout",
     "output_type": "stream",
     "text": [
      "82.3 ms ± 1.16 ms per loop (mean ± std. dev. of 7 runs, 10 loops each)\n"
     ]
    }
   ],
   "source": [
    "%%timeit -n 10\n",
    "for r in range(R):\n",
    "    q = np.random.normal(size = dims)\n",
    "    gm.log_density_gradient_proposed(q, out = out)"
   ]
  },
  {
   "cell_type": "code",
   "execution_count": 14,
   "id": "80eeea7a-d870-4a94-9f1f-3371c6c44ca6",
   "metadata": {},
   "outputs": [
    {
     "name": "stdout",
     "output_type": "stream",
     "text": [
      "84.9 ms ± 700 µs per loop (mean ± std. dev. of 7 runs, 10 loops each)\n"
     ]
    }
   ],
   "source": [
    "%%timeit -n 10\n",
    "for r in range(R):\n",
    "    q = np.random.normal(size = dims)\n",
    "    gm.log_density_gradient_alternative(q, out = out)"
   ]
  },
  {
   "cell_type": "markdown",
   "id": "721738c4-9b7a-4c11-bc29-373372f0ba8c",
   "metadata": {},
   "source": [
    "### Evaluate Ctypes Access"
   ]
  },
  {
   "cell_type": "code",
   "execution_count": 15,
   "id": "1678ed2c-e83d-4ce4-839d-9d64b75155b1",
   "metadata": {},
   "outputs": [],
   "source": [
    "import experimentalhmc as ehmc\n",
    "from numpy.ctypeslib import as_array"
   ]
  },
  {
   "cell_type": "code",
   "execution_count": 16,
   "id": "018413b1-a85a-43e3-af2d-872ee9ad4dc7",
   "metadata": {},
   "outputs": [],
   "source": [
    "def bridgestan_log_density_gradient_wrapper(bsm):\n",
    "    dim = bsm.param_unc_num()\n",
    "    def bsm_c_wrapper(position, gradient):\n",
    "        ld, _ = bsm.log_density_gradient(as_array(position, shape = (dims,)), \n",
    "                                      out = as_array(gradient, shape = (dims,)))\n",
    "        return ld\n",
    "    return bsm_c_wrapper\n",
    "\n",
    "def bridgestan_log_density_gradient_proposed_wrapper(bsm):\n",
    "    dim = bsm.param_unc_num()\n",
    "    def bsm_c_wrapper(position, gradient):\n",
    "        ld, _ = bsm.log_density_gradient_proposed(position, out = gradient)\n",
    "        return ld\n",
    "    return bsm_c_wrapper\n",
    "    \n",
    "def bridgestan_log_density_gradient_ctypes_wrapper(bsm):\n",
    "    dim = bsm.param_unc_num()\n",
    "    def bsm_c_wrapper(position, gradient):\n",
    "        ld = bsm.log_density_gradient_ctypes(position, gradient)\n",
    "        return ld\n",
    "    return bsm_c_wrapper"
   ]
  },
  {
   "cell_type": "code",
   "execution_count": 17,
   "id": "1588cbb0-c3a0-4f33-81e8-c3d7c81024e5",
   "metadata": {},
   "outputs": [],
   "source": [
    "ldg = bridgestan_log_density_gradient_wrapper(gm)\n",
    "ldg_proposed = bridgestan_log_density_gradient_proposed_wrapper(gm)\n",
    "ldg_ctypes = bridgestan_log_density_gradient_ctypes_wrapper(gm)"
   ]
  },
  {
   "cell_type": "code",
   "execution_count": 18,
   "id": "70a5bf1e-f9c8-42c3-9505-4af2679f2db6",
   "metadata": {},
   "outputs": [],
   "source": [
    "stan = ehmc.Stan(dims, ldg)\n",
    "stan_proposed = ehmc.Stan(dims, ldg_proposed)\n",
    "stan_ctypes = ehmc.Stan(dims, ldg_ctypes)"
   ]
  },
  {
   "cell_type": "code",
   "execution_count": 19,
   "id": "958da25b-1d9a-4a21-9147-af07548dc996",
   "metadata": {},
   "outputs": [
    {
     "name": "stdout",
     "output_type": "stream",
     "text": [
      "2.38 s ± 31.5 ms per loop (mean ± std. dev. of 7 runs, 10 loops each)\n"
     ]
    }
   ],
   "source": [
    "%%timeit -n 10\n",
    "for m in range(1000):\n",
    "    stan.sample()"
   ]
  },
  {
   "cell_type": "code",
   "execution_count": 20,
   "id": "6cc77ed5-9d93-4179-aef1-e3b8d62a20a7",
   "metadata": {},
   "outputs": [
    {
     "name": "stdout",
     "output_type": "stream",
     "text": [
      "1.88 s ± 84.3 ms per loop (mean ± std. dev. of 7 runs, 10 loops each)\n"
     ]
    }
   ],
   "source": [
    "%%timeit -n 10\n",
    "for m in range(1000):\n",
    "    stan_proposed.sample()"
   ]
  },
  {
   "cell_type": "code",
   "execution_count": 21,
   "id": "2483bb41-b31c-4380-b199-8d65af807884",
   "metadata": {},
   "outputs": [
    {
     "name": "stdout",
     "output_type": "stream",
     "text": [
      "2.01 s ± 102 ms per loop (mean ± std. dev. of 7 runs, 10 loops each)\n"
     ]
    }
   ],
   "source": [
    "%%timeit -n 10\n",
    "for m in range(1000):\n",
    "    stan_ctypes.sample()"
   ]
  },
  {
   "cell_type": "code",
   "execution_count": null,
   "id": "b7717125-06a8-4096-84ba-3ab7a8af42f0",
   "metadata": {},
   "outputs": [],
   "source": []
  }
 ],
 "metadata": {
  "kernelspec": {
   "display_name": "Python 3 (ipykernel)",
   "language": "python",
   "name": "python3"
  },
  "language_info": {
   "codemirror_mode": {
    "name": "ipython",
    "version": 3
   },
   "file_extension": ".py",
   "mimetype": "text/x-python",
   "name": "python",
   "nbconvert_exporter": "python",
   "pygments_lexer": "ipython3",
   "version": "3.11.6"
  }
 },
 "nbformat": 4,
 "nbformat_minor": 5
}
